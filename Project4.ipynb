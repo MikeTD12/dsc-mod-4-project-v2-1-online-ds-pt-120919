{
 "cells": [
  {
   "cell_type": "markdown",
   "metadata": {},
   "source": [
    "# Import libraries and data"
   ]
  },
  {
   "cell_type": "code",
   "execution_count": 1,
   "metadata": {
    "ExecuteTime": {
     "end_time": "2020-08-10T19:37:32.942774Z",
     "start_time": "2020-08-10T19:37:31.817447Z"
    }
   },
   "outputs": [],
   "source": [
    "import pandas as pd\n",
    "import numpy as np\n",
    "import matplotlib.pyplot as plt\n",
    "\n",
    "from surprise import Reader, Dataset\n",
    "\n",
    "from surprise.model_selection import cross_validate\n",
    "from surprise.prediction_algorithms import SVD\n",
    "from surprise.prediction_algorithms import KNNWithMeans, KNNBasic, KNNBaseline\n",
    "from surprise.model_selection import GridSearchCV"
   ]
  },
  {
   "cell_type": "code",
   "execution_count": 2,
   "metadata": {
    "ExecuteTime": {
     "end_time": "2020-08-10T19:37:33.000711Z",
     "start_time": "2020-08-10T19:37:32.946668Z"
    }
   },
   "outputs": [],
   "source": [
    "df = pd.read_csv('ratings.csv')"
   ]
  },
  {
   "cell_type": "code",
   "execution_count": 3,
   "metadata": {
    "ExecuteTime": {
     "end_time": "2020-08-10T19:37:33.963382Z",
     "start_time": "2020-08-10T19:37:33.003019Z"
    }
   },
   "outputs": [],
   "source": [
    "df = df.drop(columns='timestamp')"
   ]
  },
  {
   "cell_type": "code",
   "execution_count": 4,
   "metadata": {
    "ExecuteTime": {
     "end_time": "2020-08-10T19:37:35.103678Z",
     "start_time": "2020-08-10T19:37:33.966205Z"
    }
   },
   "outputs": [],
   "source": [
    "r = Reader()\n",
    "d = Dataset.load_from_df(df, r)"
   ]
  },
  {
   "cell_type": "markdown",
   "metadata": {},
   "source": [
    "# Fit SVD algorithm with grid search"
   ]
  },
  {
   "cell_type": "code",
   "execution_count": 5,
   "metadata": {
    "ExecuteTime": {
     "end_time": "2020-08-10T19:39:51.331301Z",
     "start_time": "2020-08-10T19:37:35.106125Z"
    }
   },
   "outputs": [],
   "source": [
    "params = {'n_factors': [20, 50, 100],\n",
    "         'reg_all': [0.02, 0.05, 0.1]}\n",
    "g_s_svd = GridSearchCV(SVD,param_grid=params,n_jobs=-1)\n",
    "g_s_svd.fit(d)"
   ]
  },
  {
   "cell_type": "code",
   "execution_count": 6,
   "metadata": {
    "ExecuteTime": {
     "end_time": "2020-08-10T19:39:51.339237Z",
     "start_time": "2020-08-10T19:39:51.334632Z"
    }
   },
   "outputs": [
    {
     "name": "stdout",
     "output_type": "stream",
     "text": [
      "{'rmse': 0.8686280454998142, 'mae': 0.6673052785841285}\n",
      "{'rmse': {'n_factors': 100, 'reg_all': 0.05}, 'mae': {'n_factors': 100, 'reg_all': 0.05}}\n"
     ]
    }
   ],
   "source": [
    "print(g_s_svd.best_score)\n",
    "print(g_s_svd.best_params)"
   ]
  },
  {
   "cell_type": "code",
   "execution_count": 7,
   "metadata": {
    "ExecuteTime": {
     "end_time": "2020-08-10T19:40:05.068171Z",
     "start_time": "2020-08-10T19:39:51.341538Z"
    }
   },
   "outputs": [],
   "source": [
    "knn_basic = KNNBasic(sim_options={'name':'pearson', 'user_based':True})\n",
    "cv_knn_basic = cross_validate(knn_basic, d, n_jobs=-1)"
   ]
  },
  {
   "cell_type": "markdown",
   "metadata": {},
   "source": [
    "# Scoring (root mean squared error)"
   ]
  },
  {
   "cell_type": "code",
   "execution_count": 8,
   "metadata": {
    "ExecuteTime": {
     "end_time": "2020-08-10T19:40:05.080382Z",
     "start_time": "2020-08-10T19:40:05.070950Z"
    }
   },
   "outputs": [
    {
     "name": "stdout",
     "output_type": "stream",
     "text": [
      "('test_rmse', array([0.9723378 , 0.96846583, 0.9683936 , 0.97535704, 0.9757883 ]))\n",
      "('test_mae', array([0.75157743, 0.74628449, 0.74847547, 0.75283182, 0.75401028]))\n",
      "('fit_time', (0.8328487873077393, 0.7456421852111816, 0.5231609344482422, 0.6437911987304688, 0.54026198387146))\n",
      "('test_time', (1.9139373302459717, 1.9061760902404785, 1.8245539665222168, 2.1783599853515625, 1.474107027053833))\n",
      "-----------------------\n",
      "0.9720685129049051\n"
     ]
    }
   ],
   "source": [
    "for i in cv_knn_basic.items():\n",
    "    print(i)\n",
    "print('-----------------------')\n",
    "print(np.mean(cv_knn_basic['test_rmse']))"
   ]
  },
  {
   "cell_type": "code",
   "execution_count": 9,
   "metadata": {
    "ExecuteTime": {
     "end_time": "2020-08-10T19:40:21.936104Z",
     "start_time": "2020-08-10T19:40:05.082815Z"
    }
   },
   "outputs": [
    {
     "name": "stdout",
     "output_type": "stream",
     "text": [
      "Estimating biases using als...\n",
      "Computing the pearson similarity matrix...\n",
      "Done computing similarity matrix.\n",
      "Estimating biases using als...\n",
      "Computing the pearson similarity matrix...\n",
      "Done computing similarity matrix.\n",
      "Estimating biases using als...\n",
      "Computing the pearson similarity matrix...\n",
      "Done computing similarity matrix.\n",
      "Estimating biases using als...\n",
      "Computing the pearson similarity matrix...\n",
      "Done computing similarity matrix.\n",
      "Estimating biases using als...\n",
      "Computing the pearson similarity matrix...\n",
      "Done computing similarity matrix.\n"
     ]
    }
   ],
   "source": [
    "knn_baseline = KNNBaseline(sim_options={'name':'pearson', 'user_based':True})\n",
    "cv_knn_baseline = cross_validate(knn_baseline, d)"
   ]
  },
  {
   "cell_type": "code",
   "execution_count": 10,
   "metadata": {
    "ExecuteTime": {
     "end_time": "2020-08-10T19:40:21.948663Z",
     "start_time": "2020-08-10T19:40:21.937597Z"
    }
   },
   "outputs": [
    {
     "name": "stdout",
     "output_type": "stream",
     "text": [
      "('test_rmse', array([0.88046902, 0.87387412, 0.87644552, 0.87478058, 0.87915189]))\n",
      "('test_mae', array([0.67162817, 0.66776759, 0.66989094, 0.66810209, 0.67167676]))\n",
      "('fit_time', (1.1462011337280273, 0.8970060348510742, 0.7907979488372803, 0.6389331817626953, 0.640084981918335))\n",
      "('test_time', (2.799245834350586, 2.305368661880493, 2.1404120922088623, 2.064384937286377, 2.3926210403442383))\n"
     ]
    },
    {
     "data": {
      "text/plain": [
       "0.8769442256379069"
      ]
     },
     "execution_count": 10,
     "metadata": {},
     "output_type": "execute_result"
    }
   ],
   "source": [
    "for i in cv_knn_baseline.items():\n",
    "    print(i)\n",
    "\n",
    "np.mean(cv_knn_baseline['test_rmse'])"
   ]
  },
  {
   "cell_type": "markdown",
   "metadata": {},
   "source": [
    "# Import movie titles"
   ]
  },
  {
   "cell_type": "code",
   "execution_count": 11,
   "metadata": {
    "ExecuteTime": {
     "end_time": "2020-08-10T19:40:21.973138Z",
     "start_time": "2020-08-10T19:40:21.951220Z"
    }
   },
   "outputs": [],
   "source": [
    "m = pd.read_csv('movies.csv')"
   ]
  },
  {
   "cell_type": "code",
   "execution_count": 12,
   "metadata": {
    "ExecuteTime": {
     "end_time": "2020-08-10T19:40:32.208279Z",
     "start_time": "2020-08-10T19:40:32.113783Z"
    }
   },
   "outputs": [
    {
     "name": "stdout",
     "output_type": "stream",
     "text": [
      "Number of users:  610 \n",
      "\n",
      "Number of items:  9724\n"
     ]
    }
   ],
   "source": [
    "dataset = d.build_full_trainset()\n",
    "print('Number of users: ', dataset.n_users, '\\n')\n",
    "print('Number of items: ', dataset.n_items)"
   ]
  },
  {
   "cell_type": "code",
   "execution_count": 14,
   "metadata": {
    "ExecuteTime": {
     "end_time": "2020-08-10T19:41:56.994847Z",
     "start_time": "2020-08-10T19:41:53.676084Z"
    }
   },
   "outputs": [
    {
     "data": {
      "text/plain": [
       "<surprise.prediction_algorithms.matrix_factorization.SVD at 0x1216319e8>"
      ]
     },
     "execution_count": 14,
     "metadata": {},
     "output_type": "execute_result"
    }
   ],
   "source": [
    "svd = SVD(n_factors= 50, reg_all=0.05)\n",
    "svd.fit(dataset)"
   ]
  },
  {
   "cell_type": "code",
   "execution_count": 15,
   "metadata": {
    "ExecuteTime": {
     "end_time": "2020-08-10T19:42:07.893128Z",
     "start_time": "2020-08-10T19:42:07.886567Z"
    }
   },
   "outputs": [
    {
     "data": {
      "text/plain": [
       "Prediction(uid=2, iid=4, r_ui=None, est=3.0609897425443497, details={'was_impossible': False})"
      ]
     },
     "execution_count": 15,
     "metadata": {},
     "output_type": "execute_result"
    }
   ],
   "source": [
    "svd.predict(2, 4)"
   ]
  },
  {
   "cell_type": "code",
   "execution_count": 24,
   "metadata": {
    "ExecuteTime": {
     "end_time": "2020-08-10T19:47:12.172443Z",
     "start_time": "2020-08-10T19:47:12.165295Z"
    }
   },
   "outputs": [],
   "source": [
    "def movie_rater(movie_df,num, genre=None):\n",
    "    userID = 1000\n",
    "    rating_list = []\n",
    "    while num > 0:\n",
    "        if genre:\n",
    "            movie = movie_df[movie_df['genres'].str.contains(genre)].sample(1)\n",
    "        else:\n",
    "            movie = movie_df.sample(1)\n",
    "        print(movie)\n",
    "        rating = input('How do you rate this movie on a scale of 1-5, press n if you have not seen :\\n')\n",
    "        if rating == 'n':\n",
    "            continue\n",
    "        else:\n",
    "            rating_one_movie = {'userId':userID,'movieId':movie['movieId'].values[0],'rating':rating}\n",
    "            rating_list.append(rating_one_movie) \n",
    "            num -= 1\n",
    "    return rating_list"
   ]
  },
  {
   "cell_type": "markdown",
   "metadata": {},
   "source": [
    "# User input for movie ratings"
   ]
  },
  {
   "cell_type": "code",
   "execution_count": 25,
   "metadata": {
    "ExecuteTime": {
     "end_time": "2020-08-10T19:53:59.321812Z",
     "start_time": "2020-08-10T19:47:14.000028Z"
    }
   },
   "outputs": [
    {
     "name": "stdout",
     "output_type": "stream",
     "text": [
      "      movieId                        title          genres\n",
      "8454   112303  Think Like a Man Too (2014)  Comedy|Romance\n",
      "How do you rate this movie on a scale of 1-5, press n if you have not seen :\n",
      "n\n",
      "      movieId           title        genres\n",
      "2681     3591  Mr. Mom (1983)  Comedy|Drama\n",
      "How do you rate this movie on a scale of 1-5, press n if you have not seen :\n",
      "n\n",
      "   movieId                    title          genres\n",
      "2        3  Grumpier Old Men (1995)  Comedy|Romance\n",
      "How do you rate this movie on a scale of 1-5, press n if you have not seen :\n",
      "n\n",
      "      movieId                                     title                genres\n",
      "3916     5503  Last Kiss, The (Ultimo bacio, L') (2001)  Comedy|Drama|Romance\n",
      "How do you rate this movie on a scale of 1-5, press n if you have not seen :\n",
      "n\n",
      "      movieId                             title                  genres\n",
      "1510     2038  Cat from Outer Space, The (1978)  Children|Comedy|Sci-Fi\n",
      "How do you rate this movie on a scale of 1-5, press n if you have not seen :\n",
      "n\n",
      "      movieId                 title  genres\n",
      "9210   151739  Dirty Grandpa (2016)  Comedy\n",
      "How do you rate this movie on a scale of 1-5, press n if you have not seen :\n",
      "n\n",
      "      movieId                                         title  genres\n",
      "6853    62113  How to Lose Friends & Alienate People (2008)  Comedy\n",
      "How do you rate this movie on a scale of 1-5, press n if you have not seen :\n",
      "n\n",
      "      movieId                                              title  \\\n",
      "5975    36289  Asterix & Obelix vs. Caesar (Astérix et Obélix...   \n",
      "\n",
      "                                 genres  \n",
      "5975  Adventure|Children|Comedy|Fantasy  \n",
      "How do you rate this movie on a scale of 1-5, press n if you have not seen :\n",
      "n\n",
      "     movieId         title                genres\n",
      "936     1236  Trust (1990)  Comedy|Drama|Romance\n",
      "How do you rate this movie on a scale of 1-5, press n if you have not seen :\n",
      "n\n",
      "      movieId         title          genres\n",
      "2695     3616  Loser (2000)  Comedy|Romance\n",
      "How do you rate this movie on a scale of 1-5, press n if you have not seen :\n",
      "n\n",
      "      movieId                 title  genres\n",
      "4709     7026  Summer School (1987)  Comedy\n",
      "How do you rate this movie on a scale of 1-5, press n if you have not seen :\n",
      "n\n",
      "      movieId               title                   genres\n",
      "8128   101423  Mezzo Forte (1998)  Action|Animation|Comedy\n",
      "How do you rate this movie on a scale of 1-5, press n if you have not seen :\n",
      "n\n",
      "      movieId                   title                        genres\n",
      "1399     1918  Lethal Weapon 4 (1998)  Action|Comedy|Crime|Thriller\n",
      "How do you rate this movie on a scale of 1-5, press n if you have not seen :\n",
      "n\n",
      "      movieId           title        genres\n",
      "4452     6573  Avanti! (1972)  Comedy|Drama\n",
      "How do you rate this movie on a scale of 1-5, press n if you have not seen :\n",
      "n\n",
      "      movieId                   title  \\\n",
      "7530    84637  Gnomeo & Juliet (2011)   \n",
      "\n",
      "                                                 genres  \n",
      "7530  Adventure|Animation|Children|Comedy|Fantasy|Ro...  \n",
      "How do you rate this movie on a scale of 1-5, press n if you have not seen :\n",
      "5\n",
      "      movieId                        title                     genres\n",
      "9498   170777  There Once Was a Dog (1982)  Animation|Children|Comedy\n",
      "How do you rate this movie on a scale of 1-5, press n if you have not seen :\n",
      "n\n",
      "      movieId                title                     genres\n",
      "2778     3716  Fatal Beauty (1987)  Action|Comedy|Crime|Drama\n",
      "How do you rate this movie on a scale of 1-5, press n if you have not seen :\n",
      "n\n",
      "      movieId               title               genres\n",
      "7734    90717  Tower Heist (2011)  Action|Comedy|Crime\n",
      "How do you rate this movie on a scale of 1-5, press n if you have not seen :\n",
      "n\n",
      "      movieId                                     title        genres\n",
      "3708     5113  After the Fox (Caccia alla volpe) (1966)  Comedy|Crime\n",
      "How do you rate this movie on a scale of 1-5, press n if you have not seen :\n",
      "n\n",
      "      movieId                   title         genres\n",
      "1891     2514  Pet Sematary II (1992)  Comedy|Horror\n",
      "How do you rate this movie on a scale of 1-5, press n if you have not seen :\n",
      "n\n",
      "      movieId               title         genres\n",
      "3029     4053  Double Take (2001)  Action|Comedy\n",
      "How do you rate this movie on a scale of 1-5, press n if you have not seen :\n",
      "n\n",
      "      movieId                                              title  \\\n",
      "4655     6954  Barbarian Invasions, The (Les invasions barbar...   \n",
      "\n",
      "                                  genres  \n",
      "4655  Comedy|Crime|Drama|Mystery|Romance  \n",
      "How do you rate this movie on a scale of 1-5, press n if you have not seen :\n",
      "n\n",
      "      movieId                         title                 genres\n",
      "5799    31700  Because of Winn-Dixie (2005)  Children|Comedy|Drama\n",
      "How do you rate this movie on a scale of 1-5, press n if you have not seen :\n",
      "5\n",
      "      movieId                    title  genres\n",
      "7115    70984  Taking Woodstock (2009)  Comedy\n",
      "How do you rate this movie on a scale of 1-5, press n if you have not seen :\n",
      "n\n",
      "      movieId                            title  \\\n",
      "2250     2987  Who Framed Roger Rabbit? (1988)   \n",
      "\n",
      "                                                 genres  \n",
      "2250  Adventure|Animation|Children|Comedy|Crime|Fant...  \n",
      "How do you rate this movie on a scale of 1-5, press n if you have not seen :\n",
      "5\n",
      "      movieId                       title         genres\n",
      "1880     2498  My Favorite Martian (1999)  Comedy|Sci-Fi\n",
      "How do you rate this movie on a scale of 1-5, press n if you have not seen :\n",
      "n\n",
      "      movieId                                           title  \\\n",
      "7020    68480  Flatfoot on the Nile (Piedone d'Egitto) (1980)   \n",
      "\n",
      "                   genres  \n",
      "7020  Action|Comedy|Crime  \n",
      "How do you rate this movie on a scale of 1-5, press n if you have not seen :\n",
      "n\n",
      "      movieId              title  genres\n",
      "9240   154065  Dad's Army (2016)  Comedy\n",
      "How do you rate this movie on a scale of 1-5, press n if you have not seen :\n",
      "n\n",
      "      movieId                                              title  \\\n",
      "8049    98623  Winners and Sinners (Qi mou miao ji: Wu fu xin...   \n",
      "\n",
      "                   genres  \n",
      "8049  Action|Comedy|Crime  \n",
      "How do you rate this movie on a scale of 1-5, press n if you have not seen :\n",
      "n\n",
      "      movieId                           title  genres\n",
      "4823     7191  Blame It on the Bellboy (1992)  Comedy\n",
      "How do you rate this movie on a scale of 1-5, press n if you have not seen :\n",
      "n\n",
      "      movieId                          title            genres\n",
      "6091    42009  Cheaper by the Dozen 2 (2005)  Adventure|Comedy\n",
      "How do you rate this movie on a scale of 1-5, press n if you have not seen :\n",
      "5\n",
      "      movieId                                            title  \\\n",
      "9507   170939  Captain Underpants: The First Epic Movie (2017)   \n",
      "\n",
      "                                genres  \n",
      "9507  Action|Animation|Children|Comedy  \n",
      "How do you rate this movie on a scale of 1-5, press n if you have not seen :\n",
      "n\n",
      "      movieId                           title                genres\n",
      "5914    33725  It's All Gone Pete Tong (2004)  Comedy|Drama|Musical\n",
      "How do you rate this movie on a scale of 1-5, press n if you have not seen :\n",
      "n\n",
      "      movieId                      title        genres\n",
      "8224   103865  Revenge for Jolly! (2012)  Comedy|Drama\n",
      "How do you rate this movie on a scale of 1-5, press n if you have not seen :\n",
      "n\n",
      "      movieId           title  genres\n",
      "3862     5427  Caveman (1981)  Comedy\n",
      "How do you rate this movie on a scale of 1-5, press n if you have not seen :\n",
      "n\n",
      "      movieId                     title         genres\n",
      "3969     5597  Suburban Commando (1991)  Comedy|Sci-Fi\n",
      "How do you rate this movie on a scale of 1-5, press n if you have not seen :\n",
      "n\n",
      "      movieId                   title                genres\n",
      "6999    67618  Strictly Sexual (2008)  Comedy|Drama|Romance\n",
      "How do you rate this movie on a scale of 1-5, press n if you have not seen :\n",
      "n\n",
      "      movieId                    title  genres\n",
      "5314     8814  Without a Paddle (2004)  Comedy\n",
      "How do you rate this movie on a scale of 1-5, press n if you have not seen :\n",
      "n\n",
      "      movieId                        title  genres\n",
      "4729     7051  What's New, Pussycat (1965)  Comedy\n",
      "How do you rate this movie on a scale of 1-5, press n if you have not seen :\n",
      "n\n",
      "      movieId                              title                   genres\n",
      "1486     2011  Back to the Future Part II (1989)  Adventure|Comedy|Sci-Fi\n"
     ]
    },
    {
     "name": "stdout",
     "output_type": "stream",
     "text": [
      "How do you rate this movie on a scale of 1-5, press n if you have not seen :\n",
      "5\n"
     ]
    }
   ],
   "source": [
    "user_rating = movie_rater(m, 5, 'Comedy')"
   ]
  },
  {
   "cell_type": "code",
   "execution_count": 26,
   "metadata": {
    "ExecuteTime": {
     "end_time": "2020-08-10T19:54:07.931127Z",
     "start_time": "2020-08-10T19:54:07.925322Z"
    }
   },
   "outputs": [
    {
     "data": {
      "text/plain": [
       "[{'userId': 1000, 'movieId': 84637, 'rating': '5'},\n",
       " {'userId': 1000, 'movieId': 31700, 'rating': '5'},\n",
       " {'userId': 1000, 'movieId': 2987, 'rating': '5'},\n",
       " {'userId': 1000, 'movieId': 42009, 'rating': '5'},\n",
       " {'userId': 1000, 'movieId': 2011, 'rating': '5'}]"
      ]
     },
     "execution_count": 26,
     "metadata": {},
     "output_type": "execute_result"
    }
   ],
   "source": [
    "user_rating"
   ]
  },
  {
   "cell_type": "code",
   "execution_count": 27,
   "metadata": {
    "ExecuteTime": {
     "end_time": "2020-08-10T19:54:13.760859Z",
     "start_time": "2020-08-10T19:54:13.649246Z"
    }
   },
   "outputs": [],
   "source": [
    "new_ratings_df = df.append(user_rating,ignore_index=True)\n",
    "new_data = Dataset.load_from_df(new_ratings_df,r)"
   ]
  },
  {
   "cell_type": "code",
   "execution_count": 28,
   "metadata": {
    "ExecuteTime": {
     "end_time": "2020-08-10T19:54:17.823279Z",
     "start_time": "2020-08-10T19:54:14.379863Z"
    }
   },
   "outputs": [
    {
     "data": {
      "text/plain": [
       "<surprise.prediction_algorithms.matrix_factorization.SVD at 0x121631eb8>"
      ]
     },
     "execution_count": 28,
     "metadata": {},
     "output_type": "execute_result"
    }
   ],
   "source": [
    "svd_ = SVD(n_factors= 50, reg_all=0.05)\n",
    "svd_.fit(new_data.build_full_trainset())"
   ]
  },
  {
   "cell_type": "code",
   "execution_count": 29,
   "metadata": {
    "ExecuteTime": {
     "end_time": "2020-08-10T19:54:17.899831Z",
     "start_time": "2020-08-10T19:54:17.824872Z"
    }
   },
   "outputs": [],
   "source": [
    "list_of_movies = []\n",
    "for m_id in df['movieId'].unique():\n",
    "    list_of_movies.append( (m_id,svd_.predict(1000,m_id)[3]))"
   ]
  },
  {
   "cell_type": "code",
   "execution_count": 30,
   "metadata": {
    "ExecuteTime": {
     "end_time": "2020-08-10T19:54:17.912049Z",
     "start_time": "2020-08-10T19:54:17.901971Z"
    }
   },
   "outputs": [],
   "source": [
    "ranked_movies = sorted(list_of_movies, key=lambda x:x[1], reverse=True)"
   ]
  },
  {
   "cell_type": "markdown",
   "metadata": {},
   "source": [
    "# Movie recommendations"
   ]
  },
  {
   "cell_type": "code",
   "execution_count": 31,
   "metadata": {
    "ExecuteTime": {
     "end_time": "2020-08-10T19:54:19.785426Z",
     "start_time": "2020-08-10T19:54:19.766047Z"
    }
   },
   "outputs": [
    {
     "name": "stdout",
     "output_type": "stream",
     "text": [
      "Recommendation #  1 :  906    Lawrence of Arabia (1962)\n",
      "Name: title, dtype: object \n",
      "\n",
      "Recommendation #  2 :  277    Shawshank Redemption, The (1994)\n",
      "Name: title, dtype: object \n",
      "\n",
      "Recommendation #  3 :  3622    Amelie (Fabuleux destin d'Amélie Poulain, Le) ...\n",
      "Name: title, dtype: object \n",
      "\n",
      "Recommendation #  4 :  841    Streetcar Named Desire, A (1951)\n",
      "Name: title, dtype: object \n",
      "\n",
      "Recommendation #  5 :  686    Rear Window (1954)\n",
      "Name: title, dtype: object \n",
      "\n"
     ]
    }
   ],
   "source": [
    "def recommended_movies(user_ratings,movie_title_df,n):\n",
    "        for idx, rec in enumerate(user_ratings):\n",
    "            title = movie_title_df.loc[movie_title_df['movieId'] == int(rec[0])]['title']\n",
    "            print('Recommendation # ', idx+1, ': ', title, '\\n')\n",
    "            n-= 1\n",
    "            if n == 0:\n",
    "                break\n",
    "            \n",
    "recommended_movies(ranked_movies,m,5)"
   ]
  },
  {
   "cell_type": "code",
   "execution_count": null,
   "metadata": {},
   "outputs": [],
   "source": []
  }
 ],
 "metadata": {
  "hide_input": false,
  "kernelspec": {
   "display_name": "Python [conda env:learn-env] *",
   "language": "python",
   "name": "conda-env-learn-env-py"
  },
  "language_info": {
   "codemirror_mode": {
    "name": "ipython",
    "version": 3
   },
   "file_extension": ".py",
   "mimetype": "text/x-python",
   "name": "python",
   "nbconvert_exporter": "python",
   "pygments_lexer": "ipython3",
   "version": "3.6.9"
  }
 },
 "nbformat": 4,
 "nbformat_minor": 2
}
